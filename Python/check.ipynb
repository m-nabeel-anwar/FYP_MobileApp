{
 "metadata": {
  "language_info": {
   "codemirror_mode": {
    "name": "ipython",
    "version": 3
   },
   "file_extension": ".py",
   "mimetype": "text/x-python",
   "name": "python",
   "nbconvert_exporter": "python",
   "pygments_lexer": "ipython3",
   "version": "3.8.3"
  },
  "orig_nbformat": 2,
  "kernelspec": {
   "name": "python383jvsc74a57bd0d1f6cae6e3d0a4014cadff94331d4302bf977cc3cd307ab5cfb1be81cf22412d",
   "display_name": "Python 3.8.3 32-bit"
  },
  "metadata": {
   "interpreter": {
    "hash": "d1f6cae6e3d0a4014cadff94331d4302bf977cc3cd307ab5cfb1be81cf22412d"
   }
  }
 },
 "nbformat": 4,
 "nbformat_minor": 2,
 "cells": [
  {
   "cell_type": "code",
   "execution_count": 4,
   "metadata": {},
   "outputs": [
    {
     "output_type": "execute_result",
     "data": {
      "text/plain": [
       "2.1"
      ]
     },
     "metadata": {},
     "execution_count": 4
    }
   ],
   "source": [
    "arr=[2.1,-2.2,-1.1]\n",
    "max(arr)"
   ]
  },
  {
   "cell_type": "code",
   "execution_count": null,
   "metadata": {},
   "outputs": [],
   "source": []
  },
  {
   "cell_type": "code",
   "execution_count": 13,
   "metadata": {},
   "outputs": [
    {
     "output_type": "stream",
     "name": "stdout",
     "text": [
      "0.087\n0.0874169083197647\n"
     ]
    }
   ],
   "source": [
    "import math\n",
    "\n",
    "R = 6373.0\n",
    "\n",
    "lat1 = math.radians(24.908528)  # trun housse 10 no\n",
    "lon1 = math.radians(67.049305)\n",
    "\n",
    "\n",
    "\n",
    "lat2= math.radians(24.909299)  # liaquatabad\n",
    "lon2=math.radians(67.049473)  \n",
    "\n",
    "\n",
    "\n",
    "dlon = lon2 - lon1\n",
    "dlat = lat2 - lat1\n",
    "\n",
    "#Haversine_formula for distance\n",
    "a = math.sin(dlat / 2)**2 + math.cos(lat1) * math.cos(lat2) * math.sin(dlon / 2)**2\n",
    "c = 2 * math.atan2(math.sqrt(a), math.sqrt(1 - a))\n",
    "distance = R * c\n",
    "\n",
    "print(round(distance,3))\n",
    "print(distance)"
   ]
  },
  {
   "cell_type": "code",
   "execution_count": 14,
   "metadata": {},
   "outputs": [
    {
     "output_type": "stream",
     "name": "stdout",
     "text": [
      "0.088\n0.08823336771037339\n"
     ]
    }
   ],
   "source": [
    "import math\n",
    "\n",
    "R = 6373.0\n",
    "\n",
    "lat1 = math.radians(24.910085)  # trun housse 10 no\n",
    "lon1 = math.radians(67.049591)\n",
    "\n",
    "\n",
    "\n",
    "lat2= math.radians(24.909299)  # liaquatabad\n",
    "lon2=math.radians(67.049473)  \n",
    "\n",
    "\n",
    "\n",
    "dlon = lon2 - lon1\n",
    "dlat = lat2 - lat1\n",
    "\n",
    "#Haversine_formula for distance\n",
    "a = math.sin(dlat / 2)**2 + math.cos(lat1) * math.cos(lat2) * math.sin(dlon / 2)**2\n",
    "c = 2 * math.atan2(math.sqrt(a), math.sqrt(1 - a))\n",
    "distance = R * c\n",
    "\n",
    "print(round(distance,3))\n",
    "print(distance) "
   ]
  },
  {
   "cell_type": "code",
   "execution_count": null,
   "metadata": {},
   "outputs": [],
   "source": []
  }
 ]
}